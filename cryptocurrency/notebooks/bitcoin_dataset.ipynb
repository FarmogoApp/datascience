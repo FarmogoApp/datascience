{
 "cells": [
  {
   "cell_type": "code",
   "execution_count": 6,
   "metadata": {
    "collapsed": true
   },
   "outputs": [],
   "source": [
    "import pandas as pd\n",
    "import numpy as np\n",
    "source_path = '../data/raw/cryptocurrencypricehistory/'\n",
    "csv_files = ['bitcoin_dataset.csv', 'ethereum_dataset.csv']\n",
    "csv_working_file = csv_files[1];\n",
    "nrows = 1000 # limit of rows to make preview"
   ]
  },
  {
   "cell_type": "markdown",
   "source": [
    "Loading data.\n",
    "We need read Market Cap column as string because pandas can't manage NA converting to int."
   ],
   "metadata": {
    "collapsed": false,
    "pycharm": {
     "name": "#%% md\n"
    }
   }
  },
  {
   "cell_type": "code",
   "execution_count": 7,
   "outputs": [
    {
     "data": {
      "text/plain": "            UnixTimeStamp  eth_etherprice  eth_tx  eth_address    eth_supply  \\\nDate(UTC)                                                                      \n2015-07-30     1438214400             0.0    8893         9205  7.204931e+07   \n2015-07-31     1438300800             0.0       0         9361  7.208550e+07   \n2015-08-01     1438387200             0.0       0         9476  7.211320e+07   \n2015-08-02     1438473600             0.0       0         9563  7.214143e+07   \n2015-08-03     1438560000             0.0       0         9639  7.216940e+07   \n\n            eth_marketcap  eth_hashrate  eth_difficulty  eth_blocks  \\\nDate(UTC)                                                             \n2015-07-30            0.0       23.7569           0.121        6912   \n2015-07-31            0.0       48.1584           0.603        6863   \n2015-08-01            0.0       55.2709           0.887        5293   \n2015-08-02            0.0       64.1779           1.020        5358   \n2015-08-03            0.0       69.8559           1.126        5280   \n\n            eth_uncles  eth_blocksize  eth_blocktime  eth_gasprice  \\\nDate(UTC)                                                            \n2015-07-30        1299            644           4.46             0   \n2015-07-31         511            582          12.58             0   \n2015-08-01         334            575          16.34             0   \n2015-08-02         394            581          16.12             0   \n2015-08-03         443            587          16.37             0   \n\n            eth_gaslimit  eth_gasused  eth_ethersupply  eth_chaindatasize  \\\nDate(UTC)                                                                   \n2015-07-30             0            0      39316.09375                NaN   \n2015-07-31             0            0      36191.71875                NaN   \n2015-08-01             0            0      27705.93750                NaN   \n2015-08-02             0            0      28223.43750                NaN   \n2015-08-03             0            0      27976.71875                NaN   \n\n            eth_ens_register  \nDate(UTC)                     \n2015-07-30               NaN  \n2015-07-31               NaN  \n2015-08-01               NaN  \n2015-08-02               NaN  \n2015-08-03               NaN  ",
      "text/html": "<div>\n<style scoped>\n    .dataframe tbody tr th:only-of-type {\n        vertical-align: middle;\n    }\n\n    .dataframe tbody tr th {\n        vertical-align: top;\n    }\n\n    .dataframe thead th {\n        text-align: right;\n    }\n</style>\n<table border=\"1\" class=\"dataframe\">\n  <thead>\n    <tr style=\"text-align: right;\">\n      <th></th>\n      <th>UnixTimeStamp</th>\n      <th>eth_etherprice</th>\n      <th>eth_tx</th>\n      <th>eth_address</th>\n      <th>eth_supply</th>\n      <th>eth_marketcap</th>\n      <th>eth_hashrate</th>\n      <th>eth_difficulty</th>\n      <th>eth_blocks</th>\n      <th>eth_uncles</th>\n      <th>eth_blocksize</th>\n      <th>eth_blocktime</th>\n      <th>eth_gasprice</th>\n      <th>eth_gaslimit</th>\n      <th>eth_gasused</th>\n      <th>eth_ethersupply</th>\n      <th>eth_chaindatasize</th>\n      <th>eth_ens_register</th>\n    </tr>\n    <tr>\n      <th>Date(UTC)</th>\n      <th></th>\n      <th></th>\n      <th></th>\n      <th></th>\n      <th></th>\n      <th></th>\n      <th></th>\n      <th></th>\n      <th></th>\n      <th></th>\n      <th></th>\n      <th></th>\n      <th></th>\n      <th></th>\n      <th></th>\n      <th></th>\n      <th></th>\n      <th></th>\n    </tr>\n  </thead>\n  <tbody>\n    <tr>\n      <th>2015-07-30</th>\n      <td>1438214400</td>\n      <td>0.0</td>\n      <td>8893</td>\n      <td>9205</td>\n      <td>7.204931e+07</td>\n      <td>0.0</td>\n      <td>23.7569</td>\n      <td>0.121</td>\n      <td>6912</td>\n      <td>1299</td>\n      <td>644</td>\n      <td>4.46</td>\n      <td>0</td>\n      <td>0</td>\n      <td>0</td>\n      <td>39316.09375</td>\n      <td>NaN</td>\n      <td>NaN</td>\n    </tr>\n    <tr>\n      <th>2015-07-31</th>\n      <td>1438300800</td>\n      <td>0.0</td>\n      <td>0</td>\n      <td>9361</td>\n      <td>7.208550e+07</td>\n      <td>0.0</td>\n      <td>48.1584</td>\n      <td>0.603</td>\n      <td>6863</td>\n      <td>511</td>\n      <td>582</td>\n      <td>12.58</td>\n      <td>0</td>\n      <td>0</td>\n      <td>0</td>\n      <td>36191.71875</td>\n      <td>NaN</td>\n      <td>NaN</td>\n    </tr>\n    <tr>\n      <th>2015-08-01</th>\n      <td>1438387200</td>\n      <td>0.0</td>\n      <td>0</td>\n      <td>9476</td>\n      <td>7.211320e+07</td>\n      <td>0.0</td>\n      <td>55.2709</td>\n      <td>0.887</td>\n      <td>5293</td>\n      <td>334</td>\n      <td>575</td>\n      <td>16.34</td>\n      <td>0</td>\n      <td>0</td>\n      <td>0</td>\n      <td>27705.93750</td>\n      <td>NaN</td>\n      <td>NaN</td>\n    </tr>\n    <tr>\n      <th>2015-08-02</th>\n      <td>1438473600</td>\n      <td>0.0</td>\n      <td>0</td>\n      <td>9563</td>\n      <td>7.214143e+07</td>\n      <td>0.0</td>\n      <td>64.1779</td>\n      <td>1.020</td>\n      <td>5358</td>\n      <td>394</td>\n      <td>581</td>\n      <td>16.12</td>\n      <td>0</td>\n      <td>0</td>\n      <td>0</td>\n      <td>28223.43750</td>\n      <td>NaN</td>\n      <td>NaN</td>\n    </tr>\n    <tr>\n      <th>2015-08-03</th>\n      <td>1438560000</td>\n      <td>0.0</td>\n      <td>0</td>\n      <td>9639</td>\n      <td>7.216940e+07</td>\n      <td>0.0</td>\n      <td>69.8559</td>\n      <td>1.126</td>\n      <td>5280</td>\n      <td>443</td>\n      <td>587</td>\n      <td>16.37</td>\n      <td>0</td>\n      <td>0</td>\n      <td>0</td>\n      <td>27976.71875</td>\n      <td>NaN</td>\n      <td>NaN</td>\n    </tr>\n  </tbody>\n</table>\n</div>"
     },
     "execution_count": 7,
     "metadata": {},
     "output_type": "execute_result"
    }
   ],
   "source": [
    "f = source_path + csv_working_file;\n",
    "data = pd.read_csv(f,\n",
    "          # nrows=nrows,\n",
    "            index_col=0,\n",
    "           parse_dates=True)\n",
    "\n",
    "data.head()"
   ],
   "metadata": {
    "collapsed": false,
    "pycharm": {
     "name": "#%%\n"
    }
   }
  },
  {
   "cell_type": "markdown",
   "source": [],
   "metadata": {
    "collapsed": false,
    "pycharm": {
     "name": "#%% md\n"
    }
   }
  },
  {
   "cell_type": "code",
   "execution_count": 8,
   "outputs": [
    {
     "data": {
      "text/plain": "       UnixTimeStamp  eth_etherprice         eth_tx   eth_address  \\\ncount   7.690000e+02      769.000000     769.000000  7.690000e+02   \nmean    1.471392e+09       46.920806   70564.308192  1.050655e+06   \nstd     1.919250e+07       90.378356   89424.024060  1.521229e+06   \nmin     1.438214e+09        0.000000       0.000000  9.205000e+03   \n25%     1.454803e+09        2.520000   17549.000000  5.892500e+04   \n50%     1.471392e+09       10.970000   42346.000000  5.394280e+05   \n75%     1.487981e+09       14.990000   58756.000000  1.081093e+06   \nmax     1.504570e+09      394.660000  444413.000000  7.067860e+06   \n\n         eth_supply  eth_marketcap  eth_hashrate  eth_difficulty   eth_blocks  \\\ncount  7.690000e+02     769.000000    769.000000      769.000000   769.000000   \nmean   8.320820e+07    4301.621649  13247.782131      233.619406  5517.196359   \nstd    6.753548e+06    8451.186405  22419.039496      455.312190   627.739112   \nmin    7.204931e+07       0.000000     23.756900        0.121000  3383.000000   \n25%    7.715399e+07     193.763321    672.601500       11.176000  5046.000000   \n50%    8.308015e+07     921.391838   4362.965300       60.393000  5861.000000   \n75%    8.922728e+07    1248.461400  10123.880000      142.922000  6035.000000   \nmax    9.445146e+07   36641.699754  95055.985800     2250.289000  6912.000000   \n\n        eth_uncles  eth_blocksize  eth_blocktime  eth_gasprice  eth_gaslimit  \\\ncount   769.000000     769.000000     769.000000  7.690000e+02  7.690000e+02   \nmean    429.973992    2770.429129      15.707763  3.922550e+10  3.993699e+06   \nstd     160.668231    3457.027985       2.158544  5.545561e+10  1.285138e+06   \nmin     126.000000     575.000000       4.460000  0.000000e+00  0.000000e+00   \n25%     351.000000    1200.000000      14.160000  2.264193e+10  3.141700e+06   \n50%     403.000000    1531.000000      14.670000  2.394373e+10  4.012114e+06   \n75%     464.000000    2045.000000      16.890000  5.231352e+10  4.711458e+06   \nmax    2044.000000   19760.000000      25.530000  9.395883e+11  6.722669e+06   \n\n        eth_gasused  eth_ethersupply  eth_chaindatasize  eth_ens_register  \ncount  7.690000e+02       769.000000                0.0        125.000000  \nmean   3.129846e+09     29182.658891                NaN       1301.024000  \nstd    4.580532e+09      3352.671936                NaN        839.253129  \nmin    0.000000e+00     17380.937500                NaN          0.000000  \n25%    6.648190e+08     26694.531250                NaN        581.000000  \n50%    1.362771e+09     30819.843750                NaN       1267.000000  \n75%    2.573096e+09     31808.593750                NaN       1971.000000  \nmax    2.325272e+10     39316.093750                NaN       3863.000000  ",
      "text/html": "<div>\n<style scoped>\n    .dataframe tbody tr th:only-of-type {\n        vertical-align: middle;\n    }\n\n    .dataframe tbody tr th {\n        vertical-align: top;\n    }\n\n    .dataframe thead th {\n        text-align: right;\n    }\n</style>\n<table border=\"1\" class=\"dataframe\">\n  <thead>\n    <tr style=\"text-align: right;\">\n      <th></th>\n      <th>UnixTimeStamp</th>\n      <th>eth_etherprice</th>\n      <th>eth_tx</th>\n      <th>eth_address</th>\n      <th>eth_supply</th>\n      <th>eth_marketcap</th>\n      <th>eth_hashrate</th>\n      <th>eth_difficulty</th>\n      <th>eth_blocks</th>\n      <th>eth_uncles</th>\n      <th>eth_blocksize</th>\n      <th>eth_blocktime</th>\n      <th>eth_gasprice</th>\n      <th>eth_gaslimit</th>\n      <th>eth_gasused</th>\n      <th>eth_ethersupply</th>\n      <th>eth_chaindatasize</th>\n      <th>eth_ens_register</th>\n    </tr>\n  </thead>\n  <tbody>\n    <tr>\n      <th>count</th>\n      <td>7.690000e+02</td>\n      <td>769.000000</td>\n      <td>769.000000</td>\n      <td>7.690000e+02</td>\n      <td>7.690000e+02</td>\n      <td>769.000000</td>\n      <td>769.000000</td>\n      <td>769.000000</td>\n      <td>769.000000</td>\n      <td>769.000000</td>\n      <td>769.000000</td>\n      <td>769.000000</td>\n      <td>7.690000e+02</td>\n      <td>7.690000e+02</td>\n      <td>7.690000e+02</td>\n      <td>769.000000</td>\n      <td>0.0</td>\n      <td>125.000000</td>\n    </tr>\n    <tr>\n      <th>mean</th>\n      <td>1.471392e+09</td>\n      <td>46.920806</td>\n      <td>70564.308192</td>\n      <td>1.050655e+06</td>\n      <td>8.320820e+07</td>\n      <td>4301.621649</td>\n      <td>13247.782131</td>\n      <td>233.619406</td>\n      <td>5517.196359</td>\n      <td>429.973992</td>\n      <td>2770.429129</td>\n      <td>15.707763</td>\n      <td>3.922550e+10</td>\n      <td>3.993699e+06</td>\n      <td>3.129846e+09</td>\n      <td>29182.658891</td>\n      <td>NaN</td>\n      <td>1301.024000</td>\n    </tr>\n    <tr>\n      <th>std</th>\n      <td>1.919250e+07</td>\n      <td>90.378356</td>\n      <td>89424.024060</td>\n      <td>1.521229e+06</td>\n      <td>6.753548e+06</td>\n      <td>8451.186405</td>\n      <td>22419.039496</td>\n      <td>455.312190</td>\n      <td>627.739112</td>\n      <td>160.668231</td>\n      <td>3457.027985</td>\n      <td>2.158544</td>\n      <td>5.545561e+10</td>\n      <td>1.285138e+06</td>\n      <td>4.580532e+09</td>\n      <td>3352.671936</td>\n      <td>NaN</td>\n      <td>839.253129</td>\n    </tr>\n    <tr>\n      <th>min</th>\n      <td>1.438214e+09</td>\n      <td>0.000000</td>\n      <td>0.000000</td>\n      <td>9.205000e+03</td>\n      <td>7.204931e+07</td>\n      <td>0.000000</td>\n      <td>23.756900</td>\n      <td>0.121000</td>\n      <td>3383.000000</td>\n      <td>126.000000</td>\n      <td>575.000000</td>\n      <td>4.460000</td>\n      <td>0.000000e+00</td>\n      <td>0.000000e+00</td>\n      <td>0.000000e+00</td>\n      <td>17380.937500</td>\n      <td>NaN</td>\n      <td>0.000000</td>\n    </tr>\n    <tr>\n      <th>25%</th>\n      <td>1.454803e+09</td>\n      <td>2.520000</td>\n      <td>17549.000000</td>\n      <td>5.892500e+04</td>\n      <td>7.715399e+07</td>\n      <td>193.763321</td>\n      <td>672.601500</td>\n      <td>11.176000</td>\n      <td>5046.000000</td>\n      <td>351.000000</td>\n      <td>1200.000000</td>\n      <td>14.160000</td>\n      <td>2.264193e+10</td>\n      <td>3.141700e+06</td>\n      <td>6.648190e+08</td>\n      <td>26694.531250</td>\n      <td>NaN</td>\n      <td>581.000000</td>\n    </tr>\n    <tr>\n      <th>50%</th>\n      <td>1.471392e+09</td>\n      <td>10.970000</td>\n      <td>42346.000000</td>\n      <td>5.394280e+05</td>\n      <td>8.308015e+07</td>\n      <td>921.391838</td>\n      <td>4362.965300</td>\n      <td>60.393000</td>\n      <td>5861.000000</td>\n      <td>403.000000</td>\n      <td>1531.000000</td>\n      <td>14.670000</td>\n      <td>2.394373e+10</td>\n      <td>4.012114e+06</td>\n      <td>1.362771e+09</td>\n      <td>30819.843750</td>\n      <td>NaN</td>\n      <td>1267.000000</td>\n    </tr>\n    <tr>\n      <th>75%</th>\n      <td>1.487981e+09</td>\n      <td>14.990000</td>\n      <td>58756.000000</td>\n      <td>1.081093e+06</td>\n      <td>8.922728e+07</td>\n      <td>1248.461400</td>\n      <td>10123.880000</td>\n      <td>142.922000</td>\n      <td>6035.000000</td>\n      <td>464.000000</td>\n      <td>2045.000000</td>\n      <td>16.890000</td>\n      <td>5.231352e+10</td>\n      <td>4.711458e+06</td>\n      <td>2.573096e+09</td>\n      <td>31808.593750</td>\n      <td>NaN</td>\n      <td>1971.000000</td>\n    </tr>\n    <tr>\n      <th>max</th>\n      <td>1.504570e+09</td>\n      <td>394.660000</td>\n      <td>444413.000000</td>\n      <td>7.067860e+06</td>\n      <td>9.445146e+07</td>\n      <td>36641.699754</td>\n      <td>95055.985800</td>\n      <td>2250.289000</td>\n      <td>6912.000000</td>\n      <td>2044.000000</td>\n      <td>19760.000000</td>\n      <td>25.530000</td>\n      <td>9.395883e+11</td>\n      <td>6.722669e+06</td>\n      <td>2.325272e+10</td>\n      <td>39316.093750</td>\n      <td>NaN</td>\n      <td>3863.000000</td>\n    </tr>\n  </tbody>\n</table>\n</div>"
     },
     "execution_count": 8,
     "metadata": {},
     "output_type": "execute_result"
    }
   ],
   "source": [
    "data.describe()\n",
    "\n",
    "\n",
    "\n",
    "\n"
   ],
   "metadata": {
    "collapsed": false,
    "pycharm": {
     "name": "#%%\n"
    }
   }
  }
 ],
 "metadata": {
  "kernelspec": {
   "display_name": "Python 3",
   "language": "python",
   "name": "python3"
  },
  "language_info": {
   "codemirror_mode": {
    "name": "ipython",
    "version": 2
   },
   "file_extension": ".py",
   "mimetype": "text/x-python",
   "name": "python",
   "nbconvert_exporter": "python",
   "pygments_lexer": "ipython2",
   "version": "2.7.6"
  }
 },
 "nbformat": 4,
 "nbformat_minor": 0
}