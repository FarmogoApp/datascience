{
 "cells": [
  {
   "cell_type": "markdown",
   "metadata": {},
   "source": [
    "Loading Data in Pandas DataFrame format\n",
    "Use nrows to limit data analise to get faster (but limited) results. If you wan all data put a huge value in this var."
   ]
  },
  {
   "cell_type": "code",
   "execution_count": null,
   "metadata": {},
   "outputs": [],
   "source": [
    "import pandas as pd\n",
    "from Util import loadJson,loadCsv,saveJson\n",
    "\n",
    "nrows = -1 # work with all data take a long time\n",
    "\n",
    "data1 = loadCsv('T-BMP280-measures.csv','BMP280',nrows);\n",
    "data2 = loadCsv('T-DHT11-measures.csv','DHT11',nrows);\n",
    "data3 = loadCsv('T-DHT22-measures.csv','DHT22',nrows);\n",
    "data4 = loadJson('T-DM280-measures.json','DM280',nrows);\n",
    "data5 = loadJson('T-HTU21-measures.json','HTU21',nrows);"
   ]
  },
  {
   "cell_type": "markdown",
   "metadata": {
    "pycharm": {
     "name": "#%% md\n"
    }
   },
   "source": [
    "As we make an outer join we can view that some rows no has value on same time on each other."
   ]
  },
  {
   "cell_type": "code",
   "execution_count": null,
   "metadata": {
    "pycharm": {
     "name": "#%%\n"
    }
   },
   "outputs": [],
   "source": [
    "data= data1.join(data2.set_index('time'), on='time', how='outer', sort=True )\n",
    "data= data.join(data3.set_index('time'), on='time', how='outer', sort=True )\n",
    "data= data.join(data4.set_index('time'), on='time', how='outer', sort=True )\n",
    "data= data.join(data5.set_index('time'), on='time', how='outer', sort=True )\n"
   ]
  },
  {
   "cell_type": "code",
   "execution_count": null,
   "metadata": {
    "pycharm": {
     "name": "#%%\n"
    }
   },
   "outputs": [],
   "source": [
    "data.describe()\n"
   ]
  },
  {
   "cell_type": "markdown",
   "metadata": {},
   "source": [
    "We can view graphically the mode of all sensors\n",
    " (mode because we like the values more repeated and if possible discard far values).\n",
    " We supose this sensors are from same places. If not, these data have no meaning."
   ]
  },
  {
   "cell_type": "code",
   "execution_count": null,
   "metadata": {
    "pycharm": {
     "is_executing": true,
     "name": "#%%\n"
    }
   },
   "outputs": [],
   "source": [
    "\n",
    "data.plot.line(x = 'time',figsize=(20,10))\n",
    "\n"
   ]
  }
 ],
 "metadata": {
  "kernelspec": {
   "display_name": "Python 3",
   "language": "python",
   "name": "python3"
  },
  "language_info": {
   "codemirror_mode": {
    "name": "ipython",
    "version": 3
   },
   "file_extension": ".py",
   "mimetype": "text/x-python",
   "name": "python",
   "nbconvert_exporter": "python",
   "pygments_lexer": "ipython3",
   "version": "3.7.3"
  }
 },
 "nbformat": 4,
 "nbformat_minor": 1
}
