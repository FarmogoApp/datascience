{
 "cells": [
  {
   "cell_type": "markdown",
   "source": [
    "Loading Data in Pandas DataFrame format\n",
    "Use nrows to limit data analise to get faster (but limited) results. If you wan all data put a huge value in this var."
   ],
   "metadata": {
    "collapsed": false
   }
  },
  {
   "cell_type": "code",
   "execution_count": 6,
   "metadata": {
    "collapsed": true
   },
   "outputs": [],
   "source": [
    "import pandas as pd\n",
    "from Util import loadJson,loadCsv,saveJson\n",
    "\n",
    "nrows = -1 # work with all data take a long time\n",
    "\n",
    "data1 = loadCsv('T-BMP280-measures.csv','BMP280',nrows);\n",
    "data2 = loadCsv('T-DHT11-measures.csv','DHT11',nrows);\n",
    "data3 = loadCsv('T-DHT22-measures.csv','DHT22',nrows);\n",
    "data4 = loadJson('T-DM280-measures.json','DM280',nrows);\n",
    "data5 = loadJson('T-HTU21-measures.json','HTU21',nrows);"
   ]
  },
  {
   "cell_type": "markdown",
   "source": [
    "As we make an outer join we can view that some rows no has value on same time on each other."
   ],
   "metadata": {
    "collapsed": false,
    "pycharm": {
     "name": "#%% md\n"
    }
   }
  },
  {
   "cell_type": "code",
   "execution_count": 7,
   "outputs": [],
   "source": [
    "data= data1.join(data2.set_index('time'), on='time', how='outer', sort=True )\n",
    "data= data.join(data3.set_index('time'), on='time', how='outer', sort=True )\n",
    "data= data.join(data4.set_index('time'), on='time', how='outer', sort=True )\n",
    "data= data.join(data5.set_index('time'), on='time', how='outer', sort=True )\n"
   ],
   "metadata": {
    "collapsed": false,
    "pycharm": {
     "name": "#%%\n"
    }
   }
  },
  {
   "cell_type": "code",
   "execution_count": 8,
   "outputs": [
    {
     "data": {
      "text/plain": "             BMP280         DHT11         DHT22      DM280         HTU21\ncount  1.422794e+06  1.420307e+06  1.440149e+06   4.000000  1.428383e+06\nmean   2.224837e+01  2.124776e+01  2.299986e+01  26.440000  2.153985e+01\nstd    2.619525e+00  2.492702e+00  2.480804e+00   0.011547  2.573268e+00\nmin    1.568000e+01  1.500000e+01  1.670000e+01  26.430000  1.508000e+01\n25%    2.096000e+01  2.000000e+01  2.170000e+01  26.430000  2.026000e+01\n50%    2.253000e+01  2.200000e+01  2.330000e+01  26.440000  2.181000e+01\n75%    2.408000e+01  2.300000e+01  2.480000e+01  26.450000  2.334000e+01\nmax    2.899000e+01  2.900000e+01  2.980000e+01  26.450000  2.821000e+01",
      "text/html": "<div>\n<style scoped>\n    .dataframe tbody tr th:only-of-type {\n        vertical-align: middle;\n    }\n\n    .dataframe tbody tr th {\n        vertical-align: top;\n    }\n\n    .dataframe thead th {\n        text-align: right;\n    }\n</style>\n<table border=\"1\" class=\"dataframe\">\n  <thead>\n    <tr style=\"text-align: right;\">\n      <th></th>\n      <th>BMP280</th>\n      <th>DHT11</th>\n      <th>DHT22</th>\n      <th>DM280</th>\n      <th>HTU21</th>\n    </tr>\n  </thead>\n  <tbody>\n    <tr>\n      <th>count</th>\n      <td>1.422794e+06</td>\n      <td>1.420307e+06</td>\n      <td>1.440149e+06</td>\n      <td>4.000000</td>\n      <td>1.428383e+06</td>\n    </tr>\n    <tr>\n      <th>mean</th>\n      <td>2.224837e+01</td>\n      <td>2.124776e+01</td>\n      <td>2.299986e+01</td>\n      <td>26.440000</td>\n      <td>2.153985e+01</td>\n    </tr>\n    <tr>\n      <th>std</th>\n      <td>2.619525e+00</td>\n      <td>2.492702e+00</td>\n      <td>2.480804e+00</td>\n      <td>0.011547</td>\n      <td>2.573268e+00</td>\n    </tr>\n    <tr>\n      <th>min</th>\n      <td>1.568000e+01</td>\n      <td>1.500000e+01</td>\n      <td>1.670000e+01</td>\n      <td>26.430000</td>\n      <td>1.508000e+01</td>\n    </tr>\n    <tr>\n      <th>25%</th>\n      <td>2.096000e+01</td>\n      <td>2.000000e+01</td>\n      <td>2.170000e+01</td>\n      <td>26.430000</td>\n      <td>2.026000e+01</td>\n    </tr>\n    <tr>\n      <th>50%</th>\n      <td>2.253000e+01</td>\n      <td>2.200000e+01</td>\n      <td>2.330000e+01</td>\n      <td>26.440000</td>\n      <td>2.181000e+01</td>\n    </tr>\n    <tr>\n      <th>75%</th>\n      <td>2.408000e+01</td>\n      <td>2.300000e+01</td>\n      <td>2.480000e+01</td>\n      <td>26.450000</td>\n      <td>2.334000e+01</td>\n    </tr>\n    <tr>\n      <th>max</th>\n      <td>2.899000e+01</td>\n      <td>2.900000e+01</td>\n      <td>2.980000e+01</td>\n      <td>26.450000</td>\n      <td>2.821000e+01</td>\n    </tr>\n  </tbody>\n</table>\n</div>"
     },
     "execution_count": 8,
     "metadata": {},
     "output_type": "execute_result"
    }
   ],
   "source": [
    "data.describe()\n"
   ],
   "metadata": {
    "collapsed": false,
    "pycharm": {
     "name": "#%%\n"
    }
   }
  },
  {
   "cell_type": "markdown",
   "source": [
    "We can view graphically the mode of all sensors\n",
    " (mode because we like the values more repeated and if possible discard far values).\n",
    " We supose this sensors are from same places. If not, these data have no meaning."
   ],
   "metadata": {
    "collapsed": false
   }
  },
  {
   "cell_type": "code",
   "execution_count": null,
   "outputs": [
    {
     "name": "stderr",
     "output_type": "stream",
     "text": [
      "/Users/sta/PycharmProjects/datascience/venv/lib/python3.7/site-packages/pandas/core/algorithms.py:846: UserWarning: Unable to sort modes: '<' not supported between instances of 'Timestamp' and 'float'\n",
      "  warn(f\"Unable to sort modes: {err}\")\n",
      "/Users/sta/PycharmProjects/datascience/venv/lib/python3.7/site-packages/pandas/core/algorithms.py:846: UserWarning: Unable to sort modes: '<' not supported between instances of 'float' and 'Timestamp'\n",
      "  warn(f\"Unable to sort modes: {err}\")\n"
     ]
    }
   ],
   "source": [
    "data['mode'] = data.mode(axis=1)\n",
    "data.plot.line(x = 'time', y = 'mode',figsize=(20,10))\n",
    "\n"
   ],
   "metadata": {
    "collapsed": false,
    "pycharm": {
     "name": "#%%\n",
     "is_executing": true
    }
   }
  }
 ],
 "metadata": {
  "kernelspec": {
   "display_name": "Python 3",
   "language": "python",
   "name": "python3"
  },
  "language_info": {
   "codemirror_mode": {
    "name": "ipython",
    "version": 2
   },
   "file_extension": ".py",
   "mimetype": "text/x-python",
   "name": "python",
   "nbconvert_exporter": "python",
   "pygments_lexer": "ipython2",
   "version": "2.7.6"
  }
 },
 "nbformat": 4,
 "nbformat_minor": 0
}