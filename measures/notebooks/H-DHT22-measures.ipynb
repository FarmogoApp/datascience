{
 "cells": [
  {
   "cell_type": "markdown",
   "source": [
    "We start importing pandas libary and loading data."
   ],
   "metadata": {
    "collapsed": false
   }
  },
  {
   "cell_type": "code",
   "execution_count": 1,
   "outputs": [],
   "source": [
    "import pandas as pd\n",
    "data = pd.read_csv(\"../data/raw/measures/H-DHT22-measures.csv\",usecols = [\"value\",\"time\"], parse_dates=['time'])"
   ],
   "metadata": {
    "collapsed": false,
    "pycharm": {
     "name": "#%%\n"
    }
   }
  },
  {
   "cell_type": "markdown",
   "source": [
    "Try to find null and nan data in value. But not has null values"
   ],
   "metadata": {
    "collapsed": false,
    "pycharm": {
     "name": "#%% md\n"
    }
   }
  },
  {
   "cell_type": "code",
   "execution_count": 2,
   "outputs": [
    {
     "name": "stdout",
     "output_type": "stream",
     "text": [
      "Null values:  0\n",
      "Nan values 0\n"
     ]
    }
   ],
   "source": [
    "print('Null values: ', pd.isnull(data.value).sum())\n",
    "print('Nan values', pd.isna(data.value).sum())"
   ],
   "metadata": {
    "collapsed": false,
    "pycharm": {
     "name": "#%%\n"
    }
   }
  },
  {
   "cell_type": "markdown",
   "source": [
    "With plot we can preview an have an idea that this sensor it was running bad during a long time.\n"
   ],
   "metadata": {
    "collapsed": false,
    "pycharm": {
     "name": "#%% md\n"
    }
   }
  },
  {
   "cell_type": "code",
   "execution_count": 3,
   "outputs": [
    {
     "data": {
      "text/plain": "<matplotlib.axes._subplots.AxesSubplot at 0x11c3762b0>"
     },
     "execution_count": 3,
     "metadata": {},
     "output_type": "execute_result"
    },
    {
     "data": {
      "text/plain": "<Figure size 432x288 with 1 Axes>",
      "image/png": "[encoded data removed]"
     },
     "metadata": {
      "needs_background": "light"
     },
     "output_type": "display_data"
    }
   ],
   "source": [
    "data.plot.line(x = 'time', y = 'value')\n"
   ],
   "metadata": {
    "collapsed": false,
    "pycharm": {
     "name": "#%%\n"
    }
   }
  },
  {
   "cell_type": "markdown",
   "source": [
    "Observing plot we can say that values out of range (8,1) are incorrect.\n",
    "\n",
    "So filtering this we can have some values, this file have a lot of time without valid data"
   ],
   "metadata": {
    "collapsed": false
   }
  },
  {
   "cell_type": "code",
   "execution_count": 4,
   "outputs": [
    {
     "data": {
      "text/plain": "<matplotlib.axes._subplots.AxesSubplot at 0x10c2f5208>"
     },
     "execution_count": 4,
     "metadata": {},
     "output_type": "execute_result"
    },
    {
     "data": {
      "text/plain": "<Figure size 432x288 with 1 Axes>",
      "image/png": "[encoded data removed]"
     },
     "metadata": {
      "needs_background": "light"
     },
     "output_type": "display_data"
    }
   ],
   "source": [
    "data = data[data.value.lt(8)]\n",
    "data = data[data.value.ne(1)]\n",
    "data.plot.line(x = 'time', y = 'value')"
   ],
   "metadata": {
    "collapsed": false,
    "pycharm": {
     "name": "#%%\n"
    }
   }
  },
  {
   "cell_type": "markdown",
   "source": [
    "Finally we write data to file to work after with this."
   ],
   "metadata": {
    "collapsed": false,
    "pycharm": {
     "name": "#%% md\n"
    }
   }
  },
  {
   "cell_type": "code",
   "execution_count": 12,
   "outputs": [],
   "source": [
    "data.to_json('../data/processed/H-DHT22-measures.json', orient='records', date_format='iso', indent=2)\n"
   ],
   "metadata": {
    "collapsed": false,
    "pycharm": {
     "name": "#%%\n"
    }
   }
  },
  {
   "cell_type": "code",
   "source": [
    "# We view that for a long time the sersor always mark the same temp.\n",
    "# We can consideer all values offsite of range 1 - 0 can be ommited because it can considerer fails.\n",
    "# So that we have a lot of time without data.\n",
    "# import pandas as pd\n",
    "# import date\n",
    "#\n",
    "# dtypes = {'value': 'float', 'time': 'datetime'}\n",
    "# parse_dates = ['time']\n",
    "# data1 = pd.read_csv('../data/raw/measures/H-DHT22-measures.csv',usecols = ['value','time'], parse_dates=parse_dates)\n",
    "\n",
    "\n",
    "#time_incorrect = datetime.datetime(2017,12,19,21)\n",
    "#time_incorrect = pd.Timestamp(2017,12,19,21)\n",
    "#data_filtered = data_filtered[data_filtered.time < '2017-12-19T21']\n",
    "#data_filtered = data_filtered[data_filtered.time > '2017-12-19T15']\n",
    "\n",
    "#data_filtered.plot.line(x = 'time', y = 'value')\n",
    "\n",
    "#\n",
    "# import pandas as pd\n",
    "#\n",
    "# dtypes = {'value': 'float', 'time': 'datetime'}\n",
    "# parse_dates = ['time']\n",
    "# data1 = pd.read_csv('../data/raw/measures/H-DHT22-measures.csv',usecols = ['value','time'], parse_dates=parse_dates)\n",
    "#\n",
    "# data_filtered = data1[data1.value < 50.0]\n",
    "# data_filtered.plot.line(x = 'time', y = 'value')\n"
   ],
   "metadata": {
    "collapsed": false,
    "pycharm": {
     "name": "#%% disable\n"
    }
   },
   "execution_count": 5,
   "outputs": []
  }
 ],
 "metadata": {
  "kernelspec": {
   "display_name": "Python 3",
   "language": "python",
   "name": "python3"
  },
  "language_info": {
   "codemirror_mode": {
    "name": "ipython",
    "version": 2
   },
   "file_extension": ".py",
   "mimetype": "text/x-python",
   "name": "python",
   "nbconvert_exporter": "python",
   "pygments_lexer": "ipython2",
   "version": "2.7.6"
  }
 },
 "nbformat": 4,
 "nbformat_minor": 0
}