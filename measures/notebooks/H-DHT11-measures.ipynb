{
 "cells": [
  {
   "cell_type": "markdown",
   "metadata": {},
   "source": [
    "We can observe the file not contains an only one json, it contains a json for value.\n",
    "We need to read line by line and manage with each json object to make a colection."
   ]
  },
  {
   "cell_type": "code",
   "execution_count": 1,
   "metadata": {
    "pycharm": {
     "is_executing": true,
     "name": "#%%\n"
    }
   },
   "outputs": [],
   "source": [
    "import pandas as pd\n",
    "import Util\n",
    "import json\n",
    "\n",
    "\n",
    "\n",
    "values = []\n",
    "time = []\n",
    "f = open(\"../data/raw/measures/H-DHT11-measures.json\", \"r\")\n",
    "for line in f:\n",
    "    json_parsed = json.loads(line)\n",
    "    values.append( json_parsed['value'])\n",
    "    time.append(pd.to_datetime(json_parsed['time']))"
   ]
  },
  {
   "cell_type": "markdown",
   "metadata": {
    "pycharm": {
     "name": "#%% md\n"
    }
   },
   "source": [
    "We create a Panda's Dataframe to can manage data."
   ]
  },
  {
   "cell_type": "code",
   "execution_count": 2,
   "metadata": {
    "pycharm": {
     "is_executing": true,
     "name": "#%%\n"
    }
   },
   "outputs": [
    {
     "name": "stdout",
     "output_type": "stream",
     "text": [
      "         values                time\n",
      "0            31 2017-12-22 11:22:11\n",
      "1            31 2017-12-22 11:22:16\n",
      "2            31 2017-12-22 11:22:20\n",
      "3            31 2017-12-22 11:22:24\n",
      "4            31 2017-12-22 11:22:28\n",
      "...         ...                 ...\n",
      "1420297      33 2018-03-13 11:41:53\n",
      "1420298      33 2018-03-13 11:41:57\n",
      "1420299      33 2018-03-13 11:42:01\n",
      "1420300      33 2018-03-13 11:42:05\n",
      "1420301      33 2018-03-13 11:42:09\n",
      "\n",
      "[1420302 rows x 2 columns]\n"
     ]
    }
   ],
   "source": [
    "data_obj = {'values':values, 'time': time}\n",
    "data = pd.DataFrame()\n",
    "data['values'] = values\n",
    "data['time'] = pd.Series(time, name=\"time\", dtype='datetime64[s]')\n",
    "print(data)"
   ]
  },
  {
   "cell_type": "markdown",
   "metadata": {
    "collapsed": true,
    "pycharm": {
     "name": "#%% md\n"
    }
   },
   "source": [
    "We draw a plot of data. And we can observe that this file haven't got all data. We can observe a holes."
   ]
  },
  {
   "cell_type": "code",
   "execution_count": 3,
   "metadata": {
    "pycharm": {
     "is_executing": true,
     "name": "#%%\n"
    }
   },
   "outputs": [
    {
     "data": {
      "text/plain": [
       "<matplotlib.axes._subplots.AxesSubplot at 0x12c56fe80>"
      ]
     },
     "execution_count": 3,
     "metadata": {},
     "output_type": "execute_result"
    },
    {
     "data": {
      "image/png": "[encoded data removed]",
      "text/plain": [
       "<Figure size 432x288 with 1 Axes>"
      ]
     },
     "metadata": {
      "needs_background": "light"
     },
     "output_type": "display_data"
    }
   ],
   "source": [
    "data.plot.line(x = 'time', y = 'values')"
   ]
  },
  {
   "cell_type": "markdown",
   "metadata": {
    "pycharm": {
     "name": "#%% md\n"
    }
   },
   "source": [
    "Try de find holes, by finding time difference. Make a plot where can view when data ara lost."
   ]
  },
  {
   "cell_type": "code",
   "execution_count": 4,
   "metadata": {
    "pycharm": {
     "is_executing": true,
     "name": "#%%\n"
    }
   },
   "outputs": [
    {
     "data": {
      "text/plain": [
       "<matplotlib.axes._subplots.AxesSubplot at 0x13b9aa160>"
      ]
     },
     "execution_count": 4,
     "metadata": {},
     "output_type": "execute_result"
    },
    {
     "data": {
      "image/png": "[encoded data removed]",
      "text/plain": [
       "<Figure size 432x288 with 1 Axes>"
      ]
     },
     "metadata": {
      "needs_background": "light"
     },
     "output_type": "display_data"
    }
   ],
   "source": [
    "data['timediff'] = (data['time'] -  data['time'].shift(1)).astype('timedelta64[s]')\n",
    "data.plot.scatter(x = 'time', y = 'timediff')"
   ]
  },
  {
   "cell_type": "markdown",
   "metadata": {
    "pycharm": {
     "name": "#%% md\n"
    }
   },
   "source": [
    "We try to get and objective interval acceptable of losing data.\n",
    "\n",
    "Mode is the most repeated and we could consider is the time that is programmed to get data from devices. So that is 4 seconds. We can filter the lowest times that time increase and we could fit the threshold."
   ]
  },
  {
   "cell_type": "code",
   "execution_count": 5,
   "metadata": {
    "pycharm": {
     "is_executing": true,
     "name": "#%%\n"
    }
   },
   "outputs": [
    {
     "name": "stdout",
     "output_type": "stream",
     "text": [
      "mode 1136259\n",
      "           values     time\n",
      "timediff                  \n",
      "3.0           649      649\n",
      "3.0           649      649\n",
      "4.0       1136259  1136259\n",
      "4.0       1136259  1136259\n",
      "5.0        274989   274989\n",
      "5.0        274989   274989\n",
      "6.0          1019     1019\n",
      "6.0          1019     1019\n",
      "7.0           497      497\n",
      "7.0           497      497\n",
      "8.0           161      161\n",
      "8.0           161      161\n",
      "9.0           137      137\n",
      "9.0           137      137\n",
      "10.0           74       74\n",
      "10.0           74       74\n",
      "11.0           31       31\n",
      "11.0           31       31\n",
      "12.0           32       32\n",
      "12.0           32       32\n",
      "13.0           19       19\n",
      "13.0           19       19\n",
      "14.0           62       62\n",
      "14.0           62       62\n",
      "15.0           39       39\n",
      "15.0           39       39\n",
      "16.0          137      137\n",
      "16.0          137      137\n",
      "17.0          684      684\n",
      "17.0          684      684\n",
      "18.0         1214     1214\n",
      "18.0         1214     1214\n",
      "19.0         1727     1727\n",
      "19.0         1727     1727\n",
      "20.0         1578     1578\n",
      "20.0         1578     1578\n",
      "21.0          702      702\n",
      "21.0          702      702\n",
      "22.0           59       59\n",
      "22.0           59       59\n",
      "23.0           36       36\n",
      "23.0           36       36\n",
      "24.0           14       14\n",
      "24.0           14       14\n",
      "36.0           12       12\n",
      "36.0           12       12\n"
     ]
    },
    {
     "data": {
      "image/png": "[encoded data removed]",
      "text/plain": [
       "<Figure size 432x288 with 1 Axes>"
      ]
     },
     "metadata": {
      "needs_background": "light"
     },
     "output_type": "display_data"
    }
   ],
   "source": [
    "g = data.groupby(['timediff'])\n",
    "v1 = g.count();\n",
    "#print(v1)\n",
    "v2 = v1[v1.values>10]\n",
    "mode = v1.values.max()\n",
    "print (\"mode\", mode)\n",
    "v2.plot.line(y=\"values\")\n",
    "print(v2)\n",
    "#v1.plot.line( y='values')"
   ]
  },
  {
   "cell_type": "markdown",
   "metadata": {
    "pycharm": {
     "name": "#%% md\n"
    }
   },
   "source": [
    "Try to get interval of lost data. We consider that data is lost if we don't have data during 30 seconds from previous point but we can be more hard fitting value to 7 seconds. We can observe if this threshold goes down the intervals with lost data increases a lot.\n",
    "We show you all intervals"
   ]
  },
  {
   "cell_type": "code",
   "execution_count": 6,
   "metadata": {
    "pycharm": {
     "is_executing": true,
     "name": "#%%\n"
    }
   },
   "outputs": [
    {
     "name": "stdout",
     "output_type": "stream",
     "text": [
      "from 2017-12-22 11:23:14 to 2017-12-22 11:30:05 time(s) losed data 411.0\n",
      "from 2017-12-27 00:25:08 to 2017-12-27 00:25:44 time(s) losed data 36.0\n",
      "from 2018-01-02 14:28:06 to 2018-01-08 08:39:12 time(s) losed data 497466.0\n",
      "from 2018-01-08 08:43:45 to 2018-01-08 09:07:12 time(s) losed data 1407.0\n",
      "from 2018-01-09 11:36:43 to 2018-01-09 11:37:15 time(s) losed data 32.0\n",
      "from 2018-01-10 14:48:27 to 2018-01-10 14:49:04 time(s) losed data 37.0\n",
      "from 2018-01-17 08:39:02 to 2018-01-17 08:40:01 time(s) losed data 59.0\n",
      "from 2018-01-17 12:58:41 to 2018-01-17 12:59:13 time(s) losed data 32.0\n",
      "from 2018-01-17 18:25:30 to 2018-01-17 18:27:46 time(s) losed data 136.0\n",
      "from 2018-01-17 21:04:06 to 2018-01-17 21:25:29 time(s) losed data 1283.0\n",
      "from 2018-01-18 10:07:23 to 2018-01-18 10:07:59 time(s) losed data 36.0\n",
      "from 2018-01-18 14:15:28 to 2018-01-18 14:15:59 time(s) losed data 31.0\n",
      "from 2018-01-24 21:14:13 to 2018-01-24 21:14:45 time(s) losed data 32.0\n",
      "from 2018-01-24 21:25:22 to 2018-01-24 21:26:15 time(s) losed data 53.0\n",
      "from 2018-01-24 21:59:21 to 2018-01-24 22:00:00 time(s) losed data 39.0\n",
      "from 2018-01-24 22:51:25 to 2018-01-24 22:52:01 time(s) losed data 36.0\n",
      "from 2018-01-25 02:53:07 to 2018-01-25 02:53:43 time(s) losed data 36.0\n",
      "from 2018-01-25 05:00:53 to 2018-01-25 05:01:59 time(s) losed data 66.0\n",
      "from 2018-01-25 07:29:08 to 2018-01-25 07:29:40 time(s) losed data 32.0\n",
      "from 2018-01-25 07:34:59 to 2018-01-25 07:35:31 time(s) losed data 32.0\n",
      "from 2018-01-25 08:29:14 to 2018-01-25 08:30:06 time(s) losed data 52.0\n",
      "from 2018-01-25 08:30:24 to 2018-01-25 08:31:15 time(s) losed data 51.0\n",
      "from 2018-01-25 10:56:49 to 2018-01-25 10:58:02 time(s) losed data 73.0\n",
      "from 2018-01-25 10:59:39 to 2018-01-25 11:00:20 time(s) losed data 41.0\n",
      "from 2018-01-25 14:48:08 to 2018-01-25 14:48:42 time(s) losed data 34.0\n",
      "from 2018-01-26 12:06:53 to 2018-01-26 12:07:32 time(s) losed data 39.0\n",
      "from 2018-01-29 16:18:51 to 2018-01-30 16:15:17 time(s) losed data 86186.0\n",
      "from 2018-01-31 11:30:15 to 2018-01-31 11:30:51 time(s) losed data 36.0\n",
      "from 2018-01-31 17:48:50 to 2018-01-31 17:49:41 time(s) losed data 51.0\n",
      "from 2018-02-06 19:47:57 to 2018-02-06 19:48:29 time(s) losed data 32.0\n",
      "from 2018-02-06 19:50:00 to 2018-02-06 19:50:42 time(s) losed data 42.0\n",
      "from 2018-02-06 19:50:42 to 2018-02-06 19:51:17 time(s) losed data 35.0\n",
      "from 2018-02-06 19:57:06 to 2018-02-06 19:59:57 time(s) losed data 171.0\n",
      "from 2018-02-06 20:05:52 to 2018-02-06 20:06:26 time(s) losed data 34.0\n",
      "from 2018-02-06 20:06:26 to 2018-02-06 20:07:57 time(s) losed data 91.0\n",
      "from 2018-02-06 20:07:57 to 2018-02-06 20:08:32 time(s) losed data 35.0\n",
      "from 2018-02-06 20:08:59 to 2018-02-06 20:09:42 time(s) losed data 43.0\n",
      "from 2018-02-06 20:10:28 to 2018-02-06 20:11:37 time(s) losed data 69.0\n",
      "from 2018-02-06 20:13:00 to 2018-02-06 20:13:31 time(s) losed data 31.0\n",
      "from 2018-02-06 20:16:41 to 2018-02-06 20:17:20 time(s) losed data 39.0\n",
      "from 2018-02-12 12:39:17 to 2018-02-12 12:39:50 time(s) losed data 33.0\n",
      "from 2018-02-12 15:08:49 to 2018-02-12 15:09:20 time(s) losed data 31.0\n",
      "from 2018-02-14 07:39:12 to 2018-02-14 07:39:58 time(s) losed data 46.0\n",
      "from 2018-02-14 07:46:24 to 2018-02-14 07:47:00 time(s) losed data 36.0\n",
      "from 2018-02-14 07:47:55 to 2018-02-14 07:48:31 time(s) losed data 36.0\n",
      "from 2018-02-14 09:54:22 to 2018-02-14 09:58:22 time(s) losed data 240.0\n",
      "from 2018-02-14 10:03:50 to 2018-02-14 10:04:30 time(s) losed data 40.0\n",
      "from 2018-02-15 05:29:13 to 2018-02-15 05:30:38 time(s) losed data 85.0\n",
      "from 2018-02-15 05:31:37 to 2018-02-15 05:32:46 time(s) losed data 69.0\n",
      "from 2018-02-15 05:32:46 to 2018-02-15 05:34:24 time(s) losed data 98.0\n",
      "from 2018-02-15 05:34:38 to 2018-02-15 05:35:35 time(s) losed data 57.0\n",
      "from 2018-02-15 05:35:59 to 2018-02-15 05:36:36 time(s) losed data 37.0\n",
      "from 2018-02-15 05:36:40 to 2018-02-15 05:38:08 time(s) losed data 88.0\n",
      "from 2018-02-15 05:38:26 to 2018-02-15 05:39:23 time(s) losed data 57.0\n",
      "from 2018-02-15 05:40:06 to 2018-02-15 05:41:33 time(s) losed data 87.0\n",
      "from 2018-02-15 05:41:33 to 2018-02-15 05:42:48 time(s) losed data 75.0\n",
      "from 2018-02-15 05:44:00 to 2018-02-15 05:46:02 time(s) losed data 122.0\n",
      "from 2018-02-15 05:46:02 to 2018-02-15 05:48:58 time(s) losed data 176.0\n",
      "from 2018-02-15 05:48:58 to 2018-02-15 05:49:48 time(s) losed data 50.0\n",
      "from 2018-02-15 05:50:18 to 2018-02-15 05:51:17 time(s) losed data 59.0\n",
      "from 2018-02-15 05:51:17 to 2018-02-15 05:53:13 time(s) losed data 116.0\n",
      "from 2018-02-15 05:53:24 to 2018-02-15 05:54:08 time(s) losed data 44.0\n",
      "from 2018-02-15 05:54:08 to 2018-02-15 05:56:21 time(s) losed data 133.0\n",
      "from 2018-02-15 05:56:48 to 2018-02-15 06:02:24 time(s) losed data 336.0\n",
      "from 2018-02-15 06:02:45 to 2018-02-15 06:03:19 time(s) losed data 34.0\n",
      "from 2018-02-15 06:03:19 to 2018-02-15 06:05:35 time(s) losed data 136.0\n",
      "from 2018-02-15 06:05:35 to 2018-02-15 06:06:41 time(s) losed data 66.0\n",
      "from 2018-02-15 06:06:57 to 2018-02-15 06:08:00 time(s) losed data 63.0\n",
      "from 2018-02-15 06:08:04 to 2018-02-15 06:08:38 time(s) losed data 34.0\n",
      "from 2018-02-15 06:08:38 to 2018-02-15 06:09:09 time(s) losed data 31.0\n",
      "from 2018-02-15 06:09:34 to 2018-02-15 06:11:50 time(s) losed data 136.0\n",
      "from 2018-02-15 06:12:15 to 2018-02-15 06:14:38 time(s) losed data 143.0\n",
      "from 2018-02-15 06:14:38 to 2018-02-15 06:15:39 time(s) losed data 61.0\n",
      "from 2018-02-15 06:15:39 to 2018-02-15 06:16:17 time(s) losed data 38.0\n",
      "from 2018-02-15 06:16:46 to 2018-02-15 06:22:30 time(s) losed data 344.0\n",
      "from 2018-02-15 06:22:37 to 2018-02-15 06:23:13 time(s) losed data 36.0\n",
      "from 2018-02-15 06:23:13 to 2018-02-15 06:24:23 time(s) losed data 70.0\n",
      "from 2018-02-15 06:28:08 to 2018-02-15 06:31:49 time(s) losed data 221.0\n",
      "from 2018-02-15 06:31:59 to 2018-02-15 06:34:02 time(s) losed data 123.0\n",
      "from 2018-02-15 06:34:09 to 2018-02-15 06:35:17 time(s) losed data 68.0\n",
      "from 2018-02-15 06:35:17 to 2018-02-15 06:38:18 time(s) losed data 181.0\n",
      "from 2018-02-15 06:38:18 to 2018-02-15 06:39:52 time(s) losed data 94.0\n",
      "from 2018-02-15 06:39:52 to 2018-02-15 06:40:37 time(s) losed data 45.0\n",
      "from 2018-02-15 06:40:37 to 2018-02-15 06:42:24 time(s) losed data 107.0\n",
      "from 2018-02-15 06:42:24 to 2018-02-15 06:42:55 time(s) losed data 31.0\n",
      "from 2018-02-15 06:43:12 to 2018-02-15 06:44:18 time(s) losed data 66.0\n",
      "from 2018-02-15 06:44:26 to 2018-02-15 06:45:50 time(s) losed data 84.0\n",
      "from 2018-02-15 06:45:50 to 2018-02-15 06:46:29 time(s) losed data 39.0\n",
      "from 2018-02-15 06:46:29 to 2018-02-15 06:47:27 time(s) losed data 58.0\n",
      "from 2018-02-15 06:47:27 to 2018-02-15 06:48:47 time(s) losed data 80.0\n",
      "from 2018-02-15 06:48:47 to 2018-02-15 06:49:23 time(s) losed data 36.0\n",
      "from 2018-02-15 06:49:23 to 2018-02-15 06:50:17 time(s) losed data 54.0\n",
      "from 2018-02-15 06:50:17 to 2018-02-15 06:51:23 time(s) losed data 66.0\n",
      "from 2018-02-15 06:51:23 to 2018-02-15 06:52:56 time(s) losed data 93.0\n",
      "from 2018-02-15 06:52:56 to 2018-02-15 06:53:33 time(s) losed data 37.0\n",
      "from 2018-02-15 06:53:33 to 2018-02-15 06:55:46 time(s) losed data 133.0\n",
      "from 2018-02-15 06:55:46 to 2018-02-15 06:57:07 time(s) losed data 81.0\n",
      "from 2018-02-15 07:01:16 to 2018-02-15 07:02:26 time(s) losed data 70.0\n",
      "from 2018-02-15 07:03:41 to 2018-02-15 07:07:13 time(s) losed data 212.0\n",
      "from 2018-02-15 07:07:13 to 2018-02-15 07:08:35 time(s) losed data 82.0\n",
      "from 2018-02-15 07:08:58 to 2018-02-15 07:09:44 time(s) losed data 46.0\n",
      "from 2018-02-15 07:13:38 to 2018-02-15 07:15:05 time(s) losed data 87.0\n",
      "from 2018-02-15 07:15:05 to 2018-02-15 07:18:02 time(s) losed data 177.0\n",
      "from 2018-02-15 07:18:11 to 2018-02-15 07:20:49 time(s) losed data 158.0\n",
      "from 2018-02-15 07:20:49 to 2018-02-15 07:22:21 time(s) losed data 92.0\n",
      "from 2018-02-15 07:22:21 to 2018-02-15 07:25:36 time(s) losed data 195.0\n",
      "from 2018-02-15 07:27:20 to 2018-02-15 07:28:43 time(s) losed data 83.0\n",
      "from 2018-02-15 07:29:50 to 2018-02-15 07:31:23 time(s) losed data 93.0\n",
      "from 2018-02-15 07:31:23 to 2018-02-15 07:35:03 time(s) losed data 220.0\n",
      "from 2018-02-15 07:36:02 to 2018-02-15 07:37:01 time(s) losed data 59.0\n",
      "from 2018-02-15 07:38:39 to 2018-02-15 07:39:54 time(s) losed data 75.0\n",
      "from 2018-02-15 07:39:58 to 2018-02-15 07:43:16 time(s) losed data 198.0\n",
      "from 2018-02-15 07:43:16 to 2018-02-15 07:44:34 time(s) losed data 78.0\n",
      "from 2018-02-15 07:44:34 to 2018-02-15 07:48:16 time(s) losed data 222.0\n",
      "from 2018-02-15 07:48:16 to 2018-02-15 07:50:08 time(s) losed data 112.0\n",
      "from 2018-02-15 07:50:08 to 2018-02-15 07:51:00 time(s) losed data 52.0\n",
      "from 2018-02-15 07:51:11 to 2018-02-15 07:51:47 time(s) losed data 36.0\n",
      "from 2018-02-15 07:51:47 to 2018-02-15 07:54:27 time(s) losed data 160.0\n",
      "from 2018-02-15 07:55:19 to 2018-02-15 07:56:06 time(s) losed data 47.0\n",
      "from 2018-02-15 07:56:06 to 2018-02-15 07:58:47 time(s) losed data 161.0\n",
      "from 2018-02-15 09:54:09 to 2018-02-15 09:55:51 time(s) losed data 102.0\n",
      "from 2018-02-15 10:02:16 to 2018-02-15 10:02:55 time(s) losed data 39.0\n",
      "from 2018-02-15 10:18:37 to 2018-02-15 10:20:08 time(s) losed data 91.0\n",
      "from 2018-02-15 11:17:21 to 2018-02-15 11:17:56 time(s) losed data 35.0\n",
      "from 2018-02-15 16:14:18 to 2018-02-15 16:15:05 time(s) losed data 47.0\n",
      "from 2018-02-20 11:22:55 to 2018-02-20 11:23:54 time(s) losed data 59.0\n",
      "from 2018-02-21 08:01:42 to 2018-02-21 08:02:51 time(s) losed data 69.0\n",
      "from 2018-02-21 08:04:00 to 2018-02-21 08:05:02 time(s) losed data 62.0\n",
      "from 2018-02-21 08:07:30 to 2018-02-21 08:08:09 time(s) losed data 39.0\n",
      "from 2018-02-21 08:13:35 to 2018-02-21 08:14:06 time(s) losed data 31.0\n",
      "from 2018-02-21 09:00:37 to 2018-02-21 09:01:19 time(s) losed data 42.0\n",
      "from 2018-02-21 09:07:47 to 2018-02-21 09:08:21 time(s) losed data 34.0\n",
      "from 2018-02-21 09:13:33 to 2018-02-21 09:14:17 time(s) losed data 44.0\n",
      "from 2018-02-21 09:24:54 to 2018-02-21 09:25:55 time(s) losed data 61.0\n",
      "from 2018-02-21 09:49:26 to 2018-02-21 09:50:08 time(s) losed data 42.0\n",
      "from 2018-02-21 09:59:58 to 2018-02-21 10:00:40 time(s) losed data 42.0\n",
      "from 2018-02-21 10:09:17 to 2018-02-21 10:09:48 time(s) losed data 31.0\n",
      "from 2018-02-21 10:11:27 to 2018-02-21 10:12:12 time(s) losed data 45.0\n",
      "from 2018-02-21 10:19:17 to 2018-02-21 10:35:07 time(s) losed data 950.0\n",
      "from 2018-02-21 10:37:10 to 2018-02-21 10:37:46 time(s) losed data 36.0\n",
      "from 2018-02-21 10:48:51 to 2018-02-21 10:49:23 time(s) losed data 32.0\n",
      "from 2018-02-21 10:53:24 to 2018-02-21 10:54:01 time(s) losed data 37.0\n",
      "from 2018-02-22 08:09:55 to 2018-02-26 08:08:46 time(s) losed data 345531.0\n",
      "from 2018-03-02 12:45:38 to 2018-03-02 12:46:19 time(s) losed data 41.0\n",
      "from 2018-03-02 12:56:03 to 2018-03-02 12:56:52 time(s) losed data 49.0\n",
      "from 2018-03-02 13:10:33 to 2018-03-02 13:11:09 time(s) losed data 36.0\n",
      "from 2018-03-02 13:15:48 to 2018-03-02 13:16:23 time(s) losed data 35.0\n",
      "from 2018-03-04 07:29:48 to 2018-03-04 07:34:20 time(s) losed data 272.0\n",
      "from 2018-03-08 07:49:38 to 2018-03-08 07:50:12 time(s) losed data 34.0\n",
      "from 2018-03-12 10:08:25 to 2018-03-12 10:09:31 time(s) losed data 66.0\n"
     ]
    }
   ],
   "source": [
    "threshold = 30\n",
    "data_filter = data[data.timediff.gt(threshold)]\n",
    "\n",
    "for idx in data_filter.index:\n",
    "    print( \"from\", data['time'][idx-1], \"to\", data['time'][idx], \"time(s) losed data\", data['timediff'][idx] )"
   ]
  },
  {
   "cell_type": "markdown",
   "metadata": {
    "pycharm": {
     "name": "#%% md\n"
    }
   },
   "source": [
    "Finally, we don't need to change o delete data because this file only have problems of lose data but haven't any erroneous data.\n",
    "We save in a normalized format to can be loaded easily after."
   ]
  },
  {
   "cell_type": "code",
   "execution_count": 7,
   "metadata": {
    "pycharm": {
     "is_executing": true,
     "name": "#%%\n"
    }
   },
   "outputs": [],
   "source": [
    "data.drop(columns=\"timediff\").to_json('../data/processed/H-DHT11-measures.json', orient='records', date_format='iso', indent=2)\n"
   ]
  }
 ],
 "metadata": {
  "kernelspec": {
   "display_name": "Python 3",
   "language": "python",
   "name": "python3"
  },
  "language_info": {
   "codemirror_mode": {
    "name": "ipython",
    "version": 3
   },
   "file_extension": ".py",
   "mimetype": "text/x-python",
   "name": "python",
   "nbconvert_exporter": "python",
   "pygments_lexer": "ipython3",
   "version": "3.7.3"
  }
 },
 "nbformat": 4,
 "nbformat_minor": 1
}
