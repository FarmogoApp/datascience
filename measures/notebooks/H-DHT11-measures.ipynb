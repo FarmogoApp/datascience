{
 "cells": [
  {
   "cell_type": "markdown",
   "metadata": {},
   "source": [
    "We can observe the file not contains an only one json, it contains a json for value.\n",
    "We need to read line by line and manage with each json object to make a colection."
   ]
  },
  {
   "cell_type": "code",
   "execution_count": null,
   "metadata": {
    "pycharm": {
     "is_executing": true,
     "name": "#%%\n"
    }
   },
   "outputs": [],
   "source": [
    "import pandas as pd\n",
    "import Util\n",
    "\n",
    "\n",
    "\n",
    "values = []\n",
    "time = []\n",
    "f = open(\"../data/raw/measures/H-DHT11-measures.json\", \"r\")\n",
    "for line in f:\n",
    "    json_parsed = json.loads(line)\n",
    "    values.append( json_parsed['value'])\n",
    "    time.append(pd.to_datetime(json_parsed['time']))"
   ]
  },
  {
   "cell_type": "markdown",
   "metadata": {
    "pycharm": {
     "name": "#%% md\n"
    }
   },
   "source": [
    "We create a Panda's Dataframe to can manage data."
   ]
  },
  {
   "cell_type": "code",
   "execution_count": null,
   "metadata": {
    "pycharm": {
     "is_executing": true,
     "name": "#%%\n"
    }
   },
   "outputs": [],
   "source": [
    "data_obj = {'values':values, 'time': time}\n",
    "data = pd.DataFrame()\n",
    "data['values'] = values\n",
    "data['time'] = pd.Series(time, name=\"time\", dtype='datetime64[s]')\n",
    "print(data)"
   ]
  },
  {
   "cell_type": "markdown",
   "metadata": {
    "collapsed": true,
    "pycharm": {
     "name": "#%% md\n"
    }
   },
   "source": [
    "We draw a plot of data. And we can observe that this file haven't got all data. We can observe a holes."
   ]
  },
  {
   "cell_type": "code",
   "execution_count": null,
   "metadata": {
    "pycharm": {
     "is_executing": true,
     "name": "#%%\n"
    }
   },
   "outputs": [],
   "source": [
    "data.plot.line(x = 'time', y = 'values')"
   ]
  },
  {
   "cell_type": "markdown",
   "metadata": {
    "pycharm": {
     "name": "#%% md\n"
    }
   },
   "source": [
    "Try de find holes, by finding time difference. Make a plot where can view when data ara lost."
   ]
  },
  {
   "cell_type": "code",
   "execution_count": null,
   "metadata": {
    "pycharm": {
     "is_executing": true,
     "name": "#%%\n"
    }
   },
   "outputs": [],
   "source": [
    "data['timediff'] = (data['time'] -  data['time'].shift(1)).astype('timedelta64[s]')\n",
    "data.plot.scatter(x = 'time', y = 'timediff')"
   ]
  },
  {
   "cell_type": "markdown",
   "metadata": {
    "pycharm": {
     "name": "#%% md\n"
    }
   },
   "source": [
    "We try to get and objective interval acceptable of losing data.\n",
    "\n",
    "Mode is the most repeated and we could consider is the time that is programmed to get data from devices. So that is 4 seconds. We can filter the lowest times that time increase and we could fit the threshold."
   ]
  },
  {
   "cell_type": "code",
   "execution_count": null,
   "metadata": {
    "pycharm": {
     "is_executing": true,
     "name": "#%%\n"
    }
   },
   "outputs": [],
   "source": [
    "g = data.groupby(['timediff'])\n",
    "v1 = g.count();\n",
    "#print(v1)\n",
    "v2 = v1[v1.values>10]\n",
    "mode = v1.values.max()\n",
    "print (\"mode\", mode)\n",
    "v2.plot.line(y=\"values\")\n",
    "print(v2)\n",
    "#v1.plot.line( y='values')"
   ]
  },
  {
   "cell_type": "markdown",
   "metadata": {
    "pycharm": {
     "name": "#%% md\n"
    }
   },
   "source": [
    "Try to get interval of lost data. We consider that data is lost if we don't have data during 30 seconds from previous point but we can be more hard fitting value to 7 seconds. We can observe if this threshold goes down the intervals with lost data increases a lot.\n",
    "We show you all intervals"
   ]
  },
  {
   "cell_type": "code",
   "execution_count": null,
   "metadata": {
    "pycharm": {
     "is_executing": true,
     "name": "#%%\n"
    }
   },
   "outputs": [],
   "source": [
    "threshold = 30\n",
    "data_filter = data[data.timediff.gt(threshold)]\n",
    "\n",
    "for idx in data_filter.index:\n",
    "    print( \"from\", data['time'][idx-1], \"to\", data['time'][idx], \"time(s) losed data\", data['timediff'][idx] )"
   ]
  },
  {
   "cell_type": "markdown",
   "metadata": {
    "pycharm": {
     "name": "#%% md\n"
    }
   },
   "source": [
    "Finally, we don't need to change o delete data because this file only have problems of lose data but haven't any erroneous data.\n",
    "We save in a normalized format to can be loaded easily after."
   ]
  },
  {
   "cell_type": "code",
   "execution_count": null,
   "metadata": {
    "pycharm": {
     "is_executing": true,
     "name": "#%%\n"
    }
   },
   "outputs": [],
   "source": [
    "data.drop(columns=\"timediff\").to_json('../data/processed/H-DHT11-measures.json', orient='records', date_format='iso', indent=2)\n"
   ]
  }
 ],
 "metadata": {
  "kernelspec": {
   "display_name": "Python 3",
   "language": "python",
   "name": "python3"
  },
  "language_info": {
   "codemirror_mode": {
    "name": "ipython",
    "version": 3
   },
   "file_extension": ".py",
   "mimetype": "text/x-python",
   "name": "python",
   "nbconvert_exporter": "python",
   "pygments_lexer": "ipython3",
   "version": "3.7.3"
  }
 },
 "nbformat": 4,
 "nbformat_minor": 1
}